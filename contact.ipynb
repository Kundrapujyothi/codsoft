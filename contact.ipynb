{
  "nbformat": 4,
  "nbformat_minor": 0,
  "metadata": {
    "colab": {
      "provenance": [],
      "authorship_tag": "ABX9TyO+jXs0rB8wh4Dt9uvI1yIJ",
      "include_colab_link": true
    },
    "kernelspec": {
      "name": "python3",
      "display_name": "Python 3"
    },
    "language_info": {
      "name": "python"
    }
  },
  "cells": [
    {
      "cell_type": "markdown",
      "metadata": {
        "id": "view-in-github",
        "colab_type": "text"
      },
      "source": [
        "<a href=\"https://colab.research.google.com/github/Kundrapujyothi/codsoft/blob/main/contact.ipynb\" target=\"_parent\"><img src=\"https://colab.research.google.com/assets/colab-badge.svg\" alt=\"Open In Colab\"/></a>"
      ]
    },
    {
      "cell_type": "code",
      "execution_count": null,
      "metadata": {
        "colab": {
          "base_uri": "https://localhost:8080/"
        },
        "id": "Fn0Wlh_MD0VQ",
        "outputId": "d7d0b65d-b240-4275-b986-d3acdb77136c"
      },
      "outputs": [
        {
          "output_type": "stream",
          "name": "stdout",
          "text": [
            "\n",
            "Options:\n",
            "1. Add Contact\n",
            "2. View Contact List\n",
            "3. Search Contact\n",
            "4. Update Contact\n",
            "5. Delete Contact\n",
            "6. Exit\n"
          ]
        }
      ],
      "source": [
        "# Initialize an empty dictionary to store contacts\n",
        "contacts = {}\n",
        "\n",
        "# Function to add a contact\n",
        "def add_contact():\n",
        "    name = input(\"Enter the contact's name: \")\n",
        "    phone = input(\"Enter the contact's phone number: \")\n",
        "    email = input(\"Enter the contact's email address: \")\n",
        "    address = input(\"Enter the contact's address: \")\n",
        "    contacts[name] = {\"Phone\": phone, \"Email\": email, \"Address\": address}\n",
        "    print(\"Contact added successfully!\")\n",
        "\n",
        "# Function to view all contacts\n",
        "def view_contacts():\n",
        "    if not contacts:\n",
        "        print(\"No contacts found.\")\n",
        "    else:\n",
        "        print(\"Contact List:\")\n",
        "        for name, details in contacts.items():\n",
        "            print(f\"Name: {name}\")\n",
        "            print(f\"Phone: {details['Phone']}\")\n",
        "            print(f\"Email: {details['Email']}\")\n",
        "            print(f\"Address: {details['Address']}\")\n",
        "            print()\n",
        "\n",
        "# Function to search for a contact\n",
        "def search_contact():\n",
        "    search_term = input(\"Enter the name or phone number to search: \")\n",
        "    found = False\n",
        "    for name, details in contacts.items():\n",
        "        if search_term in name or search_term == details[\"Phone\"]:\n",
        "            print(f\"Name: {name}\")\n",
        "            print(f\"Phone: {details['Phone']}\")\n",
        "            print(f\"Email: {details['Email']}\")\n",
        "            print(f\"Address: {details['Address']}\")\n",
        "            found = True\n",
        "    if not found:\n",
        "        print(\"Contact not found.\")\n",
        "\n",
        "# Function to update a contact\n",
        "def update_contact():\n",
        "    name = input(\"Enter the name of the contact to update: \")\n",
        "    if name in contacts:\n",
        "        print(\"Current Details:\")\n",
        "        view_single_contact(name)\n",
        "        phone = input(\"Enter the new phone number (press Enter to keep current): \")\n",
        "        email = input(\"Enter the new email address (press Enter to keep current): \")\n",
        "        address = input(\"Enter the new address (press Enter to keep current): \")\n",
        "        if phone:\n",
        "            contacts[name][\"Phone\"] = phone\n",
        "        if email:\n",
        "            contacts[name][\"Email\"] = email\n",
        "        if address:\n",
        "            contacts[name][\"Address\"] = address\n",
        "        print(\"Contact updated successfully!\")\n",
        "    else:\n",
        "        print(\"Contact not found.\")\n",
        "\n",
        "# Function to delete a contact\n",
        "def delete_contact():\n",
        "    name = input(\"Enter the name of the contact to delete: \")\n",
        "    if name in contacts:\n",
        "        del contacts[name]\n",
        "        print(\"Contact deleted successfully!\")\n",
        "    else:\n",
        "        print(\"Contact not found.\")\n",
        "\n",
        "# Function to view a single contact\n",
        "def view_single_contact(name):\n",
        "    details = contacts[name]\n",
        "    print(f\"Name: {name}\")\n",
        "    print(f\"Phone: {details['Phone']}\")\n",
        "    print(f\"Email: {details['Email']}\")\n",
        "    print(f\"Address: {details['Address']}\")\n",
        "    print()\n",
        "\n",
        "# Main program loop\n",
        "while True:\n",
        "    print(\"\\nOptions:\")\n",
        "    print(\"1. Add Contact\")\n",
        "    print(\"2. View Contact List\")\n",
        "    print(\"3. Search Contact\")\n",
        "    print(\"4. Update Contact\")\n",
        "    print(\"5. Delete Contact\")\n",
        "    print(\"6. Exit\")\n",
        "\n",
        "    choice = input(\"Enter your choice: \")\n",
        "\n",
        "    if choice == '1':\n",
        "        add_contact()\n",
        "    elif choice == '2':\n",
        "        view_contacts()\n",
        "    elif choice == '3':\n",
        "        search_contact()\n",
        "    elif choice == '4':\n",
        "        update_contact()\n",
        "    elif choice == '5':\n",
        "        delete_contact()\n",
        "    elif choice == '6':\n",
        "        print(\"Goodbye!\")\n",
        "        break\n",
        "    else:\n",
        "        print(\"Invalid choice. Please try again.\")"
      ]
    }
  ]
}